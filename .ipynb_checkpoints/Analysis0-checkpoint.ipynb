{
 "cells": [
  {
   "cell_type": "markdown",
   "metadata": {},
   "source": [
    "# Step 1a Basic data analysis using R of timeseries data"
   ]
  },
  {
   "cell_type": "markdown",
   "metadata": {},
   "source": [
    "Various statistical visualization of the Whatsapp chat data is done - from basic histogram of messages, to time of day in a heat map to a simple timeseries plot"
   ]
  },
  {
   "cell_type": "code",
   "execution_count": 1,
   "metadata": {
    "collapsed": false
   },
   "outputs": [
    {
     "name": "stderr",
     "output_type": "stream",
     "text": [
      "Warning message:\n",
      "“package ‘dplyr’ was built under R version 3.2.5”\n",
      "Attaching package: ‘dplyr’\n",
      "\n",
      "The following objects are masked from ‘package:stats’:\n",
      "\n",
      "    filter, lag\n",
      "\n",
      "The following objects are masked from ‘package:base’:\n",
      "\n",
      "    intersect, setdiff, setequal, union\n",
      "\n",
      "Warning message:\n",
      "“package ‘ggthemes’ was built under R version 3.2.5”"
     ]
    }
   ],
   "source": [
    "library(ggplot2)\n",
    "library(dplyr)\n",
    "library(ggthemes)  \n",
    "library(viridis)"
   ]
  },
  {
   "cell_type": "code",
   "execution_count": 2,
   "metadata": {
    "collapsed": true
   },
   "outputs": [],
   "source": [
    "d=read.csv('ts1.csv',header=T,sep=\"|\")"
   ]
  },
  {
   "cell_type": "code",
   "execution_count": 9,
   "metadata": {
    "collapsed": false
   },
   "outputs": [],
   "source": [
    "g<-ggplot(d, aes(Hr)) + geom_density()\n",
    "ggsave(filename=\"hr_hist.png\",plot=g, width=6, height=4)\n",
    "g<-ggplot(d, aes(Bytes)) + geom_density() + labs(title=\"Density of Per Message Bytes\")\n",
    "ggsave(filename=\"bytes_hist.png\",plot=g, width=6, height=4)"
   ]
  },
  {
   "cell_type": "code",
   "execution_count": 4,
   "metadata": {
    "collapsed": false
   },
   "outputs": [],
   "source": [
    "a1 = d %>% group_by(Day) %>% summarise(Messages=n())\n",
    "a2 = d %>% group_by(Day) %>% summarise(Bytes=sum(Bytes))"
   ]
  },
  {
   "cell_type": "code",
   "execution_count": 5,
   "metadata": {
    "collapsed": false
   },
   "outputs": [],
   "source": [
    "ts1 = ts(a1$Messages, start=c(2016, 10,14), end=c(2016, 10,26), frequency=1)\n",
    "ts2 = ts(a2$Bytes, start=c(2016, 10,14), end=c(2016, 10,26), frequency=1)"
   ]
  },
  {
   "cell_type": "code",
   "execution_count": 8,
   "metadata": {
    "collapsed": false
   },
   "outputs": [],
   "source": [
    "g <- ggplot(a1,aes(x=Day,y=Messages,group=1)) +geom_point() +geom_line()\n",
    "ggsave(filename=\"ts1.png\",plot=g, width=10, height=3)\n",
    "g <- ggplot(a2,aes(x=Day,y=Bytes,group=1)) +geom_point() +geom_line()\n",
    "ggsave(filename=\"ts2.png\",plot=g, width=10, height=3)\n",
    "g<-ggplot(a2, aes(Bytes)) + geom_density() + labs(title=\"Density of Daily Bytes\")\n",
    "ggsave(filename=\"bytes_dayhist.png\",plot=g, width=6, height=4)"
   ]
  },
  {
   "cell_type": "code",
   "execution_count": 16,
   "metadata": {
    "collapsed": false
   },
   "outputs": [
    {
     "data": {
      "text/html": [
       "<table>\n",
       "<thead><tr><th scope=col>WeekDay</th><th scope=col>Hr</th><th scope=col>Messages</th></tr></thead>\n",
       "<tbody>\n",
       "\t<tr><td>Friday</td><td>0     </td><td>83    </td></tr>\n",
       "\t<tr><td>Friday</td><td>1     </td><td>27    </td></tr>\n",
       "\t<tr><td>Friday</td><td>2     </td><td>13    </td></tr>\n",
       "\t<tr><td>Friday</td><td>3     </td><td>13    </td></tr>\n",
       "\t<tr><td>Friday</td><td>4     </td><td>23    </td></tr>\n",
       "\t<tr><td>Friday</td><td>5     </td><td>24    </td></tr>\n",
       "</tbody>\n",
       "</table>\n"
      ],
      "text/latex": [
       "\\begin{tabular}{r|lll}\n",
       " WeekDay & Hr & Messages\\\\\n",
       "\\hline\n",
       "\t Friday & 0      & 83    \\\\\n",
       "\t Friday & 1      & 27    \\\\\n",
       "\t Friday & 2      & 13    \\\\\n",
       "\t Friday & 3      & 13    \\\\\n",
       "\t Friday & 4      & 23    \\\\\n",
       "\t Friday & 5      & 24    \\\\\n",
       "\\end{tabular}\n"
      ],
      "text/plain": [
       "  WeekDay Hr Messages\n",
       "1 Friday  0  83      \n",
       "2 Friday  1  27      \n",
       "3 Friday  2  13      \n",
       "4 Friday  3  13      \n",
       "5 Friday  4  23      \n",
       "6 Friday  5  24      "
      ]
     },
     "metadata": {},
     "output_type": "display_data"
    }
   ],
   "source": [
    "a2 = d %>% group_by(WeekDay,Hr) %>% summarise(Messages=n())\n",
    "head(a2)"
   ]
  },
  {
   "cell_type": "code",
   "execution_count": 17,
   "metadata": {
    "collapsed": false
   },
   "outputs": [],
   "source": [
    "gg <- ggplot(a2, aes(x=Hr, y=WeekDay, fill=Messages)) \n",
    "gg <- gg + geom_tile(color=\"grey\", size=0.1)\n",
    "gg <- gg + scale_fill_viridis(name=\"# Messages\")\n",
    "gg <- gg + coord_equal()\n",
    "gg <- gg + labs(x=NULL, y=NULL, title=\"Messages per weekday & time of day\")\n",
    "gg <- gg + theme_tufte(base_family=\"Helvetica\")\n",
    "gg <- gg + theme(plot.title=element_text(hjust=0))\n",
    "gg <- gg + theme(axis.ticks=element_blank())\n",
    "gg <- gg + theme(axis.text=element_text(size=7))\n",
    "gg <- gg + theme(legend.title=element_text(size=8))\n",
    "gg <- gg + theme(legend.text=element_text(size=6))\n",
    "ggsave(filename=\"wk_heatmap.png\",plot=gg,width=6, height=4)"
   ]
  },
  {
   "cell_type": "code",
   "execution_count": 18,
   "metadata": {
    "collapsed": true
   },
   "outputs": [],
   "source": [
    "d=read.csv('ts1.csv',header=T,sep=\"|\")"
   ]
  },
  {
   "cell_type": "code",
   "execution_count": 19,
   "metadata": {
    "collapsed": false
   },
   "outputs": [],
   "source": [
    "a1 = d %>% group_by(Sender) %>% summarise(Messages=n())\n",
    "g<-ggplot(a1, aes(Messages)) + geom_density()\n",
    "ggsave(filename=\"MessageDensity.png\",plot=g, width=7, height=4)"
   ]
  },
  {
   "cell_type": "code",
   "execution_count": 20,
   "metadata": {
    "collapsed": false
   },
   "outputs": [
    {
     "data": {
      "text/html": [
       "<ol class=list-inline>\n",
       "\t<li>15</li>\n",
       "\t<li>170</li>\n",
       "\t<li>15</li>\n",
       "\t<li>393</li>\n",
       "\t<li>7</li>\n",
       "\t<li>201</li>\n",
       "\t<li>18</li>\n",
       "\t<li>22</li>\n",
       "\t<li>58</li>\n",
       "\t<li>910</li>\n",
       "\t<li>375</li>\n",
       "\t<li>1008</li>\n",
       "\t<li>2</li>\n",
       "\t<li>2</li>\n",
       "\t<li>104</li>\n",
       "\t<li>58</li>\n",
       "\t<li>1</li>\n",
       "\t<li>8</li>\n",
       "\t<li>3</li>\n",
       "\t<li>56</li>\n",
       "\t<li>18</li>\n",
       "\t<li>2</li>\n",
       "\t<li>44</li>\n",
       "\t<li>142</li>\n",
       "\t<li>4</li>\n",
       "\t<li>1</li>\n",
       "\t<li>850</li>\n",
       "\t<li>51</li>\n",
       "\t<li>467</li>\n",
       "\t<li>78</li>\n",
       "\t<li>105</li>\n",
       "\t<li>39</li>\n",
       "\t<li>156</li>\n",
       "\t<li>54</li>\n",
       "\t<li>917</li>\n",
       "\t<li>1023</li>\n",
       "\t<li>1038</li>\n",
       "\t<li>992</li>\n",
       "\t<li>100</li>\n",
       "\t<li>815</li>\n",
       "\t<li>322</li>\n",
       "\t<li>115</li>\n",
       "\t<li>46</li>\n",
       "\t<li>154</li>\n",
       "\t<li>23</li>\n",
       "\t<li>25</li>\n",
       "\t<li>507</li>\n",
       "</ol>\n"
      ],
      "text/latex": [
       "\\begin{enumerate*}\n",
       "\\item 15\n",
       "\\item 170\n",
       "\\item 15\n",
       "\\item 393\n",
       "\\item 7\n",
       "\\item 201\n",
       "\\item 18\n",
       "\\item 22\n",
       "\\item 58\n",
       "\\item 910\n",
       "\\item 375\n",
       "\\item 1008\n",
       "\\item 2\n",
       "\\item 2\n",
       "\\item 104\n",
       "\\item 58\n",
       "\\item 1\n",
       "\\item 8\n",
       "\\item 3\n",
       "\\item 56\n",
       "\\item 18\n",
       "\\item 2\n",
       "\\item 44\n",
       "\\item 142\n",
       "\\item 4\n",
       "\\item 1\n",
       "\\item 850\n",
       "\\item 51\n",
       "\\item 467\n",
       "\\item 78\n",
       "\\item 105\n",
       "\\item 39\n",
       "\\item 156\n",
       "\\item 54\n",
       "\\item 917\n",
       "\\item 1023\n",
       "\\item 1038\n",
       "\\item 992\n",
       "\\item 100\n",
       "\\item 815\n",
       "\\item 322\n",
       "\\item 115\n",
       "\\item 46\n",
       "\\item 154\n",
       "\\item 23\n",
       "\\item 25\n",
       "\\item 507\n",
       "\\end{enumerate*}\n"
      ],
      "text/markdown": [
       "1. 15\n",
       "2. 170\n",
       "3. 15\n",
       "4. 393\n",
       "5. 7\n",
       "6. 201\n",
       "7. 18\n",
       "8. 22\n",
       "9. 58\n",
       "10. 910\n",
       "11. 375\n",
       "12. 1008\n",
       "13. 2\n",
       "14. 2\n",
       "15. 104\n",
       "16. 58\n",
       "17. 1\n",
       "18. 8\n",
       "19. 3\n",
       "20. 56\n",
       "21. 18\n",
       "22. 2\n",
       "23. 44\n",
       "24. 142\n",
       "25. 4\n",
       "26. 1\n",
       "27. 850\n",
       "28. 51\n",
       "29. 467\n",
       "30. 78\n",
       "31. 105\n",
       "32. 39\n",
       "33. 156\n",
       "34. 54\n",
       "35. 917\n",
       "36. 1023\n",
       "37. 1038\n",
       "38. 992\n",
       "39. 100\n",
       "40. 815\n",
       "41. 322\n",
       "42. 115\n",
       "43. 46\n",
       "44. 154\n",
       "45. 23\n",
       "46. 25\n",
       "47. 507\n",
       "\n",
       "\n"
      ],
      "text/plain": [
       " [1]   15  170   15  393    7  201   18   22   58  910  375 1008    2    2  104\n",
       "[16]   58    1    8    3   56   18    2   44  142    4    1  850   51  467   78\n",
       "[31]  105   39  156   54  917 1023 1038  992  100  815  322  115   46  154   23\n",
       "[46]   25  507"
      ]
     },
     "metadata": {},
     "output_type": "display_data"
    }
   ],
   "source": [
    "a1$Messages"
   ]
  },
  {
   "cell_type": "code",
   "execution_count": 21,
   "metadata": {
    "collapsed": false
   },
   "outputs": [],
   "source": [
    "x=seq(0,max(a1$Messages))"
   ]
  },
  {
   "cell_type": "code",
   "execution_count": 10,
   "metadata": {
    "collapsed": true
   },
   "outputs": [],
   "source": [
    "library('poweRlaw')"
   ]
  },
  {
   "cell_type": "code",
   "execution_count": 23,
   "metadata": {
    "collapsed": false
   },
   "outputs": [],
   "source": [
    "m_pl = displ$new(a1$Messages)\n",
    "est = estimate_xmin(m_pl)\n",
    "m_pl$setXmin(est)\n",
    "m_ln = dislnorm$new(a1$Messages)\n",
    "est = estimate_xmin(m_ln)"
   ]
  },
  {
   "cell_type": "code",
   "execution_count": 24,
   "metadata": {
    "collapsed": false
   },
   "outputs": [
    {
     "data": {
      "text/html": [
       "<strong>pdf:</strong> 2"
      ],
      "text/latex": [
       "\\textbf{pdf:} 2"
      ],
      "text/markdown": [
       "**pdf:** 2"
      ],
      "text/plain": [
       "pdf \n",
       "  2 "
      ]
     },
     "metadata": {},
     "output_type": "display_data"
    }
   ],
   "source": [
    "png('power.png',height=400,width=800)\n",
    "plot(m_pl, pch=21, bg=2,xlab=\"Messages per Sender\", ylab=\"CDF\")\n",
    "lines(m_pl, col=3, lwd=3)\n",
    "dev.off()"
   ]
  },
  {
   "cell_type": "code",
   "execution_count": 13,
   "metadata": {
    "collapsed": false
   },
   "outputs": [
    {
     "data": {
      "text/html": [
       "<strong>pdf:</strong> 2"
      ],
      "text/latex": [
       "\\textbf{pdf:} 2"
      ],
      "text/markdown": [
       "**pdf:** 2"
      ],
      "text/plain": [
       "pdf \n",
       "  2 "
      ]
     },
     "metadata": {},
     "output_type": "display_data"
    }
   ],
   "source": [
    "a2 = d %>% group_by(Sender) %>% summarise(Bytes=sum(Bytes))\n",
    "m_pl = displ$new(a2$Bytes)\n",
    "est = estimate_xmin(m_pl)\n",
    "m_pl$setXmin(est)\n",
    "m_ln = dislnorm$new(a2$Bytes)\n",
    "est = estimate_xmin(m_ln)\n",
    "png('powerBytes.png',height=400,width=800)\n",
    "plot(m_pl, pch=21, bg=2,xlab=\"Bytes per Sender\", ylab=\"CDF\")\n",
    "dev.off()"
   ]
  },
  {
   "cell_type": "code",
   "execution_count": null,
   "metadata": {
    "collapsed": true
   },
   "outputs": [],
   "source": []
  }
 ],
 "metadata": {
  "kernelspec": {
   "display_name": "R",
   "language": "R",
   "name": "ir"
  },
  "language_info": {
   "codemirror_mode": "r",
   "file_extension": ".r",
   "mimetype": "text/x-r-source",
   "name": "R",
   "pygments_lexer": "r",
   "version": "3.2.4"
  }
 },
 "nbformat": 4,
 "nbformat_minor": 0
}
