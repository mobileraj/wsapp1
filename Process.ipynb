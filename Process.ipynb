{
 "cells": [
  {
   "cell_type": "markdown",
   "metadata": {},
   "source": [
    "# Step1: Process Whatsapp Exported Chat Log"
   ]
  },
  {
   "cell_type": "markdown",
   "metadata": {},
   "source": [
    "Using \\r\\n as the end of line, we parse each line to extract date, sender and the message for later processing. We pickle that for later use"
   ]
  },
  {
   "cell_type": "code",
   "execution_count": 1,
   "metadata": {
    "collapsed": true
   },
   "outputs": [],
   "source": [
    "from datetime import datetime\n",
    "import cPickle as p\n",
    "import os,io\n",
    "os.linesep ='\\r\\n'\n",
    "foo=io.open(\"../wappPS90/Oct14-Nov2.txt\",mode=\"r\",newline=\"\\r\\n\")\n",
    "l=foo.readlines()\n",
    "foo.close()\n",
    "objs=[]\n",
    "o2=[]\n",
    "for j,i in enumerate(l):\n",
    " s=i.split(' ')                                                                                                     \n",
    " k=(datetime.strptime(s[0]+' '+s[1]+' '+s[2],\"%m/%d/%y, %I:%M:%S %p:\") , s[3],(' '.join(s[4:])).strip())\n",
    " objs.append(k)\n",
    " m=i.strip().split(':')\n",
    " if len(m) > 4:\n",
    "  l=(datetime.strptime(m[0]+':'+m[1]+':'+m[2],\"%m/%d/%y, %I:%M:%S %p\") , m[3],m[4])\n",
    "  o2.append(l)\n",
    " else:\n",
    "  l=(datetime.strptime(m[0]+':'+m[1]+':'+m[2],\"%m/%d/%y, %I:%M:%S %p\") , m[3].strip()[0],(' '.join(m[3][1:])))\n",
    "  o2.append(l)\n",
    "\n",
    "p.dump(objs,open('chats.pik','wb'))\n",
    "p.dump(o2,open('chats2.pik','wb'))"
   ]
  },
  {
   "cell_type": "code",
   "execution_count": 2,
   "metadata": {
    "collapsed": true
   },
   "outputs": [],
   "source": [
    "d=p.load(open('chats.pik','rb'))\n",
    "\n",
    "foo = open('ts.csv','w')\n",
    "w = ('Sunday','Monday','Tuesday','Wednesday','Thursday','Friday','Saturday')\n",
    "foo.write('Date|WeekDay|Hr|Sender|Day\\n')\n",
    "bar = open('words.txt','w')\n",
    "for i in d:\n",
    " da = i[0].strftime(\"%Y-%m-%d\")\n",
    " dd = i[0].strftime(\"%m-%d\")\n",
    " wk = w[int(i[0].strftime(\"%w\"))]\n",
    " ta = i[0].strftime(\"%H\")\n",
    " if i[2].find(':') > -1:\n",
    "  ww = (' '.join(i[1:])).split(':')\n",
    "  sender = ww[0].encode('ascii','ignore')\n",
    "  wordss = ww[1].encode('ascii','ignore')\n",
    " else:\n",
    "  sender = i[1].encode('ascii','ignore')\n",
    "  wordss = i[2].encode('ascii','ignore')\n",
    " foo.write(da+'|'+wk+'|'+ta+'|'+sender+'|'+dd+'\\n')\n",
    " bar.write(wordss+' ')\n",
    "foo.close()\n",
    "bar.close()\n",
    "\n",
    "d=p.load(open('chats2.pik','rb'))\n",
    "foo = open('ts1.csv','w')\n",
    "w = ('Sunday','Monday','Tuesday','Wednesday','Thursday','Friday','Saturday')\n",
    "foo.write('Date|WeekDay|Hr|Sender|Day\\n')\n",
    "bar = open('words2.txt','w')\n",
    "for i in d:\n",
    " da = i[0].strftime(\"%Y-%m-%d\")\n",
    " dd = i[0].strftime(\"%m-%d\")\n",
    " wk = w[int(i[0].strftime(\"%w\"))]\n",
    " ta = i[0].strftime(\"%H\")\n",
    " sender = i[1].encode('ascii','ignore')\n",
    " wordss = i[2].encode('ascii','ignore')\n",
    " foo.write(da+'|'+wk+'|'+ta+'|'+sender+'|'+dd+'\\n')\n",
    " bar.write(wordss+' ')\n",
    "foo.close()\n",
    "bar.close()\n"
   ]
  },
  {
   "cell_type": "markdown",
   "metadata": {
    "collapsed": true
   },
   "source": [
    "Do the network or visualization analysis using this data...."
   ]
  },
  {
   "cell_type": "code",
   "execution_count": null,
   "metadata": {
    "collapsed": true
   },
   "outputs": [],
   "source": []
  }
 ],
 "metadata": {
  "kernelspec": {
   "display_name": "Python 2",
   "language": "python",
   "name": "python2"
  },
  "language_info": {
   "codemirror_mode": {
    "name": "ipython",
    "version": 2
   },
   "file_extension": ".py",
   "mimetype": "text/x-python",
   "name": "python",
   "nbconvert_exporter": "python",
   "pygments_lexer": "ipython2",
   "version": "2.7.11"
  }
 },
 "nbformat": 4,
 "nbformat_minor": 0
}
